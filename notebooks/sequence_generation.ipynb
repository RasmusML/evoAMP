{
 "cells": [
  {
   "cell_type": "markdown",
   "metadata": {},
   "source": [
    "# Sequence generation"
   ]
  },
  {
   "cell_type": "code",
   "execution_count": 1,
   "metadata": {},
   "outputs": [],
   "source": [
    "%reload_ext autoreload\n",
    "%autoreload 2\n",
    "%matplotlib inline\n",
    "\n",
    "import pandas as pd\n",
    "import torch\n",
    "from evoamp.models import EvoAMP\n",
    "from evoamp.models._globals import END_TOKEN\n",
    "\n",
    "torch.manual_seed(0);"
   ]
  },
  {
   "cell_type": "markdown",
   "metadata": {
    "vscode": {
     "languageId": "plaintext"
    }
   },
   "source": [
    "With the pretrained model, let's generate a few sequences."
   ]
  },
  {
   "cell_type": "code",
   "execution_count": 2,
   "metadata": {},
   "outputs": [],
   "source": [
    "DATA_PATH = \"../data/processed/amp_8_35.csv\"\n",
    "MODEL_PATH = \"../outputs/2024-05-17/14-53-50/pretrained_model\""
   ]
  },
  {
   "cell_type": "code",
   "execution_count": 3,
   "metadata": {},
   "outputs": [],
   "source": [
    "model = EvoAMP.load(MODEL_PATH)"
   ]
  },
  {
   "cell_type": "code",
   "execution_count": 4,
   "metadata": {},
   "outputs": [],
   "source": [
    "df = pd.read_csv(DATA_PATH)"
   ]
  },
  {
   "cell_type": "code",
   "execution_count": 5,
   "metadata": {},
   "outputs": [
    {
     "name": "stdout",
     "output_type": "stream",
     "text": [
      "Reference sequence: TWKKGFPHGTCSKCARE\n",
      "Is AMP: 0\n"
     ]
    }
   ],
   "source": [
    "reference_sequence = df.iloc[0][\"sequence\"]\n",
    "is_AMP = df.iloc[0][\"is_amp\"]\n",
    "\n",
    "print(f\"Reference sequence: {reference_sequence}\")\n",
    "print(f\"Is AMP: {is_AMP}\")"
   ]
  },
  {
   "cell_type": "code",
   "execution_count": 6,
   "metadata": {},
   "outputs": [],
   "source": [
    "sequences = model.sample(reference_sequence, is_AMP, n_samples=5)"
   ]
  },
  {
   "cell_type": "code",
   "execution_count": 7,
   "metadata": {},
   "outputs": [],
   "source": [
    "def prettify(sequence: list[list[str]]) -> list[str]:\n",
    "    start, end = 1, len(sequence) if sequence[-1] != END_TOKEN else len(sequence) - 1\n",
    "    return \"\".join(sequence[start:end])\n",
    "\n",
    "\n",
    "sequences = [prettify(seq) for seq in sequences]"
   ]
  },
  {
   "cell_type": "code",
   "execution_count": 8,
   "metadata": {},
   "outputs": [
    {
     "data": {
      "text/plain": [
       "['IIIKKKKKKKKKKKKKKK',\n",
       " 'IIIKKKKKKKKKKKKKKK',\n",
       " 'LKKKKKKKKKKKKKKKKK',\n",
       " 'GKKKKKKKKKKKKKKKKK',\n",
       " 'IIIIKKKKKKKKKKKKKK']"
      ]
     },
     "execution_count": 8,
     "metadata": {},
     "output_type": "execute_result"
    }
   ],
   "source": [
    "sequences"
   ]
  },
  {
   "cell_type": "code",
   "execution_count": null,
   "metadata": {},
   "outputs": [],
   "source": []
  }
 ],
 "metadata": {
  "kernelspec": {
   "display_name": "Python 3",
   "language": "python",
   "name": "python3"
  },
  "language_info": {
   "codemirror_mode": {
    "name": "ipython",
    "version": 3
   },
   "file_extension": ".py",
   "mimetype": "text/x-python",
   "name": "python",
   "nbconvert_exporter": "python",
   "pygments_lexer": "ipython3",
   "version": "3.11.9"
  }
 },
 "nbformat": 4,
 "nbformat_minor": 2
}
