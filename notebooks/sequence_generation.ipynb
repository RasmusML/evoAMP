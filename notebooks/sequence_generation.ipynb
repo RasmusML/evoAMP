{
 "cells": [
  {
   "cell_type": "markdown",
   "metadata": {},
   "source": [
    "# Sequence generation"
   ]
  },
  {
   "cell_type": "code",
   "execution_count": 45,
   "metadata": {},
   "outputs": [],
   "source": [
    "%reload_ext autoreload\n",
    "%autoreload 2\n",
    "%matplotlib inline\n",
    "\n",
    "import pandas as pd\n",
    "import torch\n",
    "from evoamp.models import EvoAMP\n",
    "from evoamp.models._globals import END_TOKEN\n",
    "\n",
    "torch.manual_seed(0);"
   ]
  },
  {
   "cell_type": "code",
   "execution_count": 46,
   "metadata": {},
   "outputs": [],
   "source": [
    "def prettify(sequence: list[list[str]]) -> list[str]:\n",
    "    start, end = 1, len(sequence) if sequence[-1] != END_TOKEN else len(sequence) - 1\n",
    "    return \"\".join(sequence[start:end])"
   ]
  },
  {
   "cell_type": "markdown",
   "metadata": {
    "vscode": {
     "languageId": "plaintext"
    }
   },
   "source": [
    "With the pretrained model, let's generate a few sequences."
   ]
  },
  {
   "cell_type": "code",
   "execution_count": 47,
   "metadata": {},
   "outputs": [],
   "source": [
    "DATA_PATH = \"../data/processed/amp_8_35.csv\"\n",
    "MODEL_PATH = \"../outputs/2024-05-18/15-10-49/pretrained_model\""
   ]
  },
  {
   "cell_type": "code",
   "execution_count": 48,
   "metadata": {},
   "outputs": [],
   "source": [
    "model = EvoAMP.load(MODEL_PATH)"
   ]
  },
  {
   "cell_type": "code",
   "execution_count": 49,
   "metadata": {},
   "outputs": [],
   "source": [
    "df = pd.read_csv(DATA_PATH)"
   ]
  },
  {
   "cell_type": "markdown",
   "metadata": {},
   "source": [
    "Generate new sequences based on reference sequence."
   ]
  },
  {
   "cell_type": "code",
   "execution_count": 50,
   "metadata": {},
   "outputs": [
    {
     "name": "stdout",
     "output_type": "stream",
     "text": [
      "Reference sequence: KVAIAMKKLEED\n",
      "Is AMP: 0\n"
     ]
    }
   ],
   "source": [
    "reference_sequence = df.iloc[1][\"sequence\"]\n",
    "is_amp = df.iloc[0][\"is_amp\"]\n",
    "\n",
    "print(f\"Reference sequence: {reference_sequence}\")\n",
    "print(f\"Is AMP: {is_amp}\")"
   ]
  },
  {
   "cell_type": "code",
   "execution_count": 51,
   "metadata": {},
   "outputs": [],
   "source": [
    "sequences = model.sample(n_samples=5, is_amp=is_amp, reference_sequence=reference_sequence)\n",
    "sequences = [prettify(seq) for seq in sequences]"
   ]
  },
  {
   "cell_type": "code",
   "execution_count": 52,
   "metadata": {},
   "outputs": [
    {
     "data": {
      "text/plain": [
       "['KVAIAMKKLEED',\n",
       " 'KVAIAMKKLEED',\n",
       " 'TWKKGFPHGTCSK',\n",
       " 'TWKKGFPHGTCSK',\n",
       " 'TWKKGFPHGTCSK']"
      ]
     },
     "execution_count": 52,
     "metadata": {},
     "output_type": "execute_result"
    }
   ],
   "source": [
    "sequences"
   ]
  },
  {
   "cell_type": "markdown",
   "metadata": {},
   "source": [
    "Generate new sequences (unconditioned)."
   ]
  },
  {
   "cell_type": "code",
   "execution_count": 53,
   "metadata": {},
   "outputs": [],
   "source": [
    "sequences = model.sample(n_samples=5, is_amp=is_amp, reference_sequence=None)\n",
    "sequences = [prettify(seq) for seq in sequences]"
   ]
  },
  {
   "cell_type": "code",
   "execution_count": 54,
   "metadata": {},
   "outputs": [
    {
     "data": {
      "text/plain": [
       "['KVAIAMKKLEED',\n",
       " 'KVAIAMKKLEED',\n",
       " 'TWKKGFPHGTCSKCARE',\n",
       " 'TWKKGFPHGTCSKCARE',\n",
       " 'KWKKGFPHGTCSKCARE']"
      ]
     },
     "execution_count": 54,
     "metadata": {},
     "output_type": "execute_result"
    }
   ],
   "source": [
    "sequences"
   ]
  }
 ],
 "metadata": {
  "kernelspec": {
   "display_name": "Python 3",
   "language": "python",
   "name": "python3"
  },
  "language_info": {
   "codemirror_mode": {
    "name": "ipython",
    "version": 3
   },
   "file_extension": ".py",
   "mimetype": "text/x-python",
   "name": "python",
   "nbconvert_exporter": "python",
   "pygments_lexer": "ipython3",
   "version": "3.11.9"
  }
 },
 "nbformat": 4,
 "nbformat_minor": 2
}
