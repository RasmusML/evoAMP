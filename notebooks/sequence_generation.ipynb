{
 "cells": [
  {
   "cell_type": "markdown",
   "metadata": {},
   "source": [
    "# Sequence generation"
   ]
  },
  {
   "cell_type": "code",
   "execution_count": 1,
   "metadata": {},
   "outputs": [],
   "source": [
    "%reload_ext autoreload\n",
    "%autoreload 2\n",
    "%matplotlib inline\n",
    "\n",
    "import pandas as pd\n",
    "import torch\n",
    "from evoamp.models import EvoAMP\n",
    "from evoamp.models._globals import END_TOKEN\n",
    "\n",
    "torch.manual_seed(0);"
   ]
  },
  {
   "cell_type": "code",
   "execution_count": 2,
   "metadata": {},
   "outputs": [],
   "source": [
    "def prettify(sequence: list[list[str]]) -> list[str]:\n",
    "    start, end = 1, len(sequence) if sequence[-1] != END_TOKEN else len(sequence) - 1\n",
    "    return \"\".join(sequence[start:end])"
   ]
  },
  {
   "cell_type": "markdown",
   "metadata": {
    "vscode": {
     "languageId": "plaintext"
    }
   },
   "source": [
    "With the pretrained model, let's generate a few sequences."
   ]
  },
  {
   "cell_type": "code",
   "execution_count": 21,
   "metadata": {},
   "outputs": [],
   "source": [
    "DATA_PATH = \"../data/processed/amp_8_35.csv\"\n",
    "MODEL_PATH = \"../outputs/2024-05-18/19-31-51/pretrained_model\""
   ]
  },
  {
   "cell_type": "code",
   "execution_count": 22,
   "metadata": {},
   "outputs": [
    {
     "name": "stderr",
     "output_type": "stream",
     "text": [
      "/home/rasmus/rmls/code/evoAMP/.conda/lib/python3.11/site-packages/torch/nn/modules/rnn.py:83: UserWarning: dropout option adds dropout after all but last recurrent layer, so non-zero dropout expects num_layers greater than 1, but got dropout=0.1 and num_layers=1\n",
      "  warnings.warn(\"dropout option adds dropout after all but last \"\n"
     ]
    }
   ],
   "source": [
    "model = EvoAMP.load(MODEL_PATH)"
   ]
  },
  {
   "cell_type": "code",
   "execution_count": 23,
   "metadata": {},
   "outputs": [],
   "source": [
    "df = pd.read_csv(DATA_PATH)"
   ]
  },
  {
   "cell_type": "markdown",
   "metadata": {},
   "source": [
    "Generate new sequences based on reference sequence."
   ]
  },
  {
   "cell_type": "code",
   "execution_count": 37,
   "metadata": {},
   "outputs": [
    {
     "name": "stdout",
     "output_type": "stream",
     "text": [
      "Reference sequence: TWKKGFPHGTCSKCARE\n",
      "Is AMP: 0\n"
     ]
    }
   ],
   "source": [
    "reference_sequence = df.iloc[0][\"sequence\"]\n",
    "is_amp = df.iloc[1][\"is_amp\"]\n",
    "\n",
    "print(f\"Reference sequence: {reference_sequence}\")\n",
    "print(f\"Is AMP: {is_amp}\")"
   ]
  },
  {
   "cell_type": "code",
   "execution_count": 38,
   "metadata": {},
   "outputs": [],
   "source": [
    "sequences = model.sample(n_samples=5, is_amp=is_amp, reference_sequence=reference_sequence)"
   ]
  },
  {
   "cell_type": "code",
   "execution_count": 39,
   "metadata": {},
   "outputs": [
    {
     "data": {
      "text/plain": [
       "['TWKKGFPHGTCSKCARE',\n",
       " 'TWKKGFPHGTCSKCARE',\n",
       " 'TWKKGFPHGTCSKCARE',\n",
       " 'TWKKGFPHGTCSKCARE',\n",
       " 'KVAIAMKKLEED']"
      ]
     },
     "execution_count": 39,
     "metadata": {},
     "output_type": "execute_result"
    }
   ],
   "source": [
    "sequences = [prettify(seq) for seq in sequences]\n",
    "sequences"
   ]
  },
  {
   "cell_type": "markdown",
   "metadata": {},
   "source": [
    "Generate new sequences (unconditioned)."
   ]
  },
  {
   "cell_type": "code",
   "execution_count": 35,
   "metadata": {},
   "outputs": [],
   "source": [
    "sequences = model.sample(n_samples=5, is_amp=is_amp, reference_sequence=None)\n",
    "sequences = [prettify(seq) for seq in sequences]"
   ]
  },
  {
   "cell_type": "code",
   "execution_count": 36,
   "metadata": {},
   "outputs": [
    {
     "data": {
      "text/plain": [
       "['TWKKGFPHGTCSKCARE',\n",
       " 'KVAIAMKKLEED',\n",
       " 'KVAIAMKKLEED',\n",
       " 'KVKIGFPHGTCSKCARE',\n",
       " 'TWKKGFPHGTCSKCARE']"
      ]
     },
     "execution_count": 36,
     "metadata": {},
     "output_type": "execute_result"
    }
   ],
   "source": [
    "sequences"
   ]
  }
 ],
 "metadata": {
  "kernelspec": {
   "display_name": "Python 3",
   "language": "python",
   "name": "python3"
  },
  "language_info": {
   "codemirror_mode": {
    "name": "ipython",
    "version": 3
   },
   "file_extension": ".py",
   "mimetype": "text/x-python",
   "name": "python",
   "nbconvert_exporter": "python",
   "pygments_lexer": "ipython3",
   "version": "3.11.9"
  }
 },
 "nbformat": 4,
 "nbformat_minor": 2
}
